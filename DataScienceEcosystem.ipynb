{
 "cells": [
  {
   "cell_type": "markdown",
   "id": "231eb4e7-ac74-4de3-9d73-647558dd5f3b",
   "metadata": {},
   "source": [
    "# Data Science Tools and Ecosystem"
   ]
  },
  {
   "cell_type": "markdown",
   "id": "12f87fc4-151f-4079-98bc-99b909f25f74",
   "metadata": {},
   "source": [
    "In this notebook, Data Science Tools and Ecosystem are summarized."
   ]
  },
  {
   "cell_type": "markdown",
   "id": "fe1854f9-fee2-4abc-a962-0d502e9d0bdb",
   "metadata": {},
   "source": [
    "**Objetives:**\n",
    "  \n",
    "- List popular languages for Data Science.\n",
    "- List the most used libraries by Data Scientists.\n",
    "- List data science tools.\n",
    "- List examples of evaluating arithmetic expressions in Python."
   ]
  },
  {
   "cell_type": "markdown",
   "id": "05d1ef4b-fe18-4b5a-8f89-70aaa1a84d91",
   "metadata": {},
   "source": [
    "Some of the popular languages that Data Scientists use are:"
   ]
  },
  {
   "cell_type": "markdown",
   "id": "f0f60a1e-ed70-4525-84aa-92d117ef0aa0",
   "metadata": {},
   "source": [
    "1. C++\n",
    "2. SQL\n",
    "3. Java\n",
    "4. Julia\n",
    "5. Python\n",
    "6. R"
   ]
  },
  {
   "cell_type": "markdown",
   "id": "95626f23-cbaf-44d9-9179-db457700868f",
   "metadata": {},
   "source": [
    "Some of the commonly used libraries used by Data Scientists include:"
   ]
  },
  {
   "cell_type": "markdown",
   "id": "047944b0-b341-447c-855a-85aa5475be10",
   "metadata": {},
   "source": [
    "1. Pandas\n",
    "2. Numpy\n",
    "3. Scipy\n",
    "4. Matplotlib\n",
    "5. Tensorflow\n",
    "6. Pytorch"
   ]
  },
  {
   "cell_type": "markdown",
   "id": "785258ab-a504-40df-bbde-f36626e9eeac",
   "metadata": {},
   "source": [
    "|Data Science Tools|\n",
    "|------------------|\n",
    "|Python|\n",
    "|Anaconda|\n",
    "|Scikit-learn|"
   ]
  },
  {
   "cell_type": "markdown",
   "id": "707bbe6d-8a38-4de6-9c18-04910229fb05",
   "metadata": {},
   "source": [
    "### Below are a few examples of evaluating arithmetic expressions in Python"
   ]
  },
  {
   "cell_type": "code",
   "execution_count": 34,
   "id": "e8622673-c4e3-4ca8-ba40-9da343c15c5c",
   "metadata": {},
   "outputs": [
    {
     "data": {
      "text/plain": [
       "17"
      ]
     },
     "execution_count": 34,
     "metadata": {},
     "output_type": "execute_result"
    }
   ],
   "source": [
    "#This a simple arithmetic expression to mutiply then add integers: \n",
    "(3*4)+5"
   ]
  },
  {
   "cell_type": "code",
   "execution_count": 42,
   "id": "ef08b290-0be6-4962-bb64-57b2ab07816c",
   "metadata": {},
   "outputs": [
    {
     "data": {
      "text/plain": [
       "3.3333333333333335"
      ]
     },
     "execution_count": 42,
     "metadata": {},
     "output_type": "execute_result"
    }
   ],
   "source": [
    "#This will convert 200 minutes to hours by diving by 60:\n",
    "200/60"
   ]
  },
  {
   "cell_type": "markdown",
   "id": "2075b3cf-d7d9-4684-bc54-321891da877a",
   "metadata": {},
   "source": [
    "## Author\n",
    "María del Carmen Martín Rodríguez"
   ]
  },
  {
   "cell_type": "code",
   "execution_count": null,
   "id": "5a95c38c-0ac7-4346-aa8f-eb4a2c390e9d",
   "metadata": {},
   "outputs": [],
   "source": []
  }
 ],
 "metadata": {
  "kernelspec": {
   "display_name": "Python 3 (ipykernel)",
   "language": "python",
   "name": "python3"
  },
  "language_info": {
   "codemirror_mode": {
    "name": "ipython",
    "version": 3
   },
   "file_extension": ".py",
   "mimetype": "text/x-python",
   "name": "python",
   "nbconvert_exporter": "python",
   "pygments_lexer": "ipython3",
   "version": "3.12.4"
  }
 },
 "nbformat": 4,
 "nbformat_minor": 5
}
